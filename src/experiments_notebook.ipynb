{
 "cells": [
  {
   "cell_type": "markdown",
   "metadata": {},
   "source": [
    "#### Imports"
   ]
  },
  {
   "cell_type": "code",
   "execution_count": null,
   "metadata": {},
   "outputs": [
    {
     "ename": "ImportError",
     "evalue": "cannot import name 'logger' from 'configs.config' (c:\\Users\\melis\\Desktop\\Projects\\python_projects\\thesis\\graph_rag_techniques\\src\\configs\\config.py)",
     "output_type": "error",
     "traceback": [
      "\u001b[1;31m---------------------------------------------------------------------------\u001b[0m",
      "\u001b[1;31mImportError\u001b[0m                               Traceback (most recent call last)",
      "Cell \u001b[1;32mIn[1], line 7\u001b[0m\n\u001b[0;32m      5\u001b[0m \u001b[38;5;28;01mfrom\u001b[39;00m\u001b[38;5;250m \u001b[39m\u001b[38;5;21;01mknowledge_graph\u001b[39;00m\u001b[38;5;21;01m.\u001b[39;00m\u001b[38;5;21;01mconnection\u001b[39;00m\u001b[38;5;250m \u001b[39m\u001b[38;5;28;01mimport\u001b[39;00m Neo4jConnection\n\u001b[0;32m      6\u001b[0m \u001b[38;5;28;01mfrom\u001b[39;00m\u001b[38;5;250m \u001b[39m\u001b[38;5;21;01mllms\u001b[39;00m\u001b[38;5;21;01m.\u001b[39;00m\u001b[38;5;21;01mllm\u001b[39;00m\u001b[38;5;250m \u001b[39m\u001b[38;5;28;01mimport\u001b[39;00m ChatModel\n\u001b[1;32m----> 7\u001b[0m \u001b[38;5;28;01mfrom\u001b[39;00m\u001b[38;5;250m \u001b[39m\u001b[38;5;21;01mdata_collection\u001b[39;00m\u001b[38;5;21;01m.\u001b[39;00m\u001b[38;5;21;01mreader\u001b[39;00m\u001b[38;5;250m \u001b[39m\u001b[38;5;28;01mimport\u001b[39;00m BioASQDataReader\n\u001b[0;32m      8\u001b[0m \u001b[38;5;28;01mfrom\u001b[39;00m\u001b[38;5;250m \u001b[39m\u001b[38;5;21;01mtqdm\u001b[39;00m\u001b[38;5;250m \u001b[39m\u001b[38;5;28;01mimport\u001b[39;00m tqdm\n\u001b[0;32m      9\u001b[0m \u001b[38;5;28;01mfrom\u001b[39;00m\u001b[38;5;250m \u001b[39m\u001b[38;5;21;01mlangchain_neo4j\u001b[39;00m\u001b[38;5;250m \u001b[39m\u001b[38;5;28;01mimport\u001b[39;00m Neo4jVector\n",
      "File \u001b[1;32mc:\\Users\\melis\\Desktop\\Projects\\python_projects\\thesis\\graph_rag_techniques\\src\\data_collection\\reader.py:7\u001b[0m\n\u001b[0;32m      4\u001b[0m \u001b[38;5;28;01mimport\u001b[39;00m\u001b[38;5;250m \u001b[39m\u001b[38;5;21;01mnumpy\u001b[39;00m\u001b[38;5;250m \u001b[39m\u001b[38;5;28;01mas\u001b[39;00m\u001b[38;5;250m \u001b[39m\u001b[38;5;21;01mnp\u001b[39;00m\n\u001b[0;32m      5\u001b[0m \u001b[38;5;28;01mimport\u001b[39;00m\u001b[38;5;250m \u001b[39m\u001b[38;5;21;01mpandas\u001b[39;00m\u001b[38;5;250m \u001b[39m\u001b[38;5;28;01mas\u001b[39;00m\u001b[38;5;250m \u001b[39m\u001b[38;5;21;01mpd\u001b[39;00m\n\u001b[1;32m----> 7\u001b[0m \u001b[38;5;28;01mfrom\u001b[39;00m\u001b[38;5;250m \u001b[39m\u001b[38;5;21;01mconfigs\u001b[39;00m\u001b[38;5;21;01m.\u001b[39;00m\u001b[38;5;21;01mconfig\u001b[39;00m\u001b[38;5;250m \u001b[39m\u001b[38;5;28;01mimport\u001b[39;00m ConfigPath, logger\n\u001b[0;32m     10\u001b[0m \u001b[38;5;28;01mclass\u001b[39;00m\u001b[38;5;250m \u001b[39m\u001b[38;5;21;01mPQADataReader\u001b[39;00m:\n\u001b[0;32m     11\u001b[0m     \u001b[38;5;28;01mdef\u001b[39;00m\u001b[38;5;250m \u001b[39m\u001b[38;5;21m__init__\u001b[39m(\u001b[38;5;28mself\u001b[39m, file_path):\n",
      "\u001b[1;31mImportError\u001b[0m: cannot import name 'logger' from 'configs.config' (c:\\Users\\melis\\Desktop\\Projects\\python_projects\\thesis\\graph_rag_techniques\\src\\configs\\config.py)"
     ]
    }
   ],
   "source": [
    "import os\n",
    "from utils.utils import read_json_file, save_json_file\n",
    "from llms.embedding_model import EmbeddingModel\n",
    "from configs.config import ConfigEnv, ConfigPath\n",
    "from knowledge_graph.connection import Neo4jConnection\n",
    "from llms.llm import ChatModel\n",
    "from data_collection.reader import BioASQDataReader\n",
    "from tqdm import tqdm\n",
    "from langchain_neo4j import Neo4jVector\n",
    "from retrieval_techniques.similarity_search import SimilaritySearchRetriever\n",
    "\n",
    "from utils.utils import num_tokens_from_string\n"
   ]
  },
  {
   "cell_type": "code",
   "execution_count": null,
   "metadata": {},
   "outputs": [
    {
     "name": "stderr",
     "output_type": "stream",
     "text": [
      "2025-04-20 17:42:11,571 [INFO] reader - Limiting the number of rows to 3...\n",
      "2025-04-20 17:42:11,572 [INFO] reader - Data file loaded with shape: (3, 4)\n"
     ]
    },
    {
     "name": "stdout",
     "output_type": "stream",
     "text": [
      "Data length: 3\n"
     ]
    }
   ],
   "source": [
    "data_path = os.path.join(ConfigPath.RAW_DATA_DIR, \"bioasq_train.parquet\")\n",
    "reader = BioASQDataReader(samples_limit=3)\n",
    "data = reader.read_parquet_file(file_path=data_path) \n",
    "print(f\"Data length: {len(data)}\")"
   ]
  },
  {
   "cell_type": "code",
   "execution_count": null,
   "metadata": {},
   "outputs": [
    {
     "data": {
      "text/plain": [
       "{'question': 'What is the implication of histone lysine methylation in medulloblastoma?',\n",
       " 'answer': 'Aberrant patterns of H3K4, H3K9, and H3K27 histone lysine methylation were shown to result in histone code alterations, which induce changes in gene expression, and affect the proliferation rate of cells in medulloblastoma.',\n",
       " 'id': 1682,\n",
       " 'relevant_passage_ids': ['23179372', '19270706', '23184418']}"
      ]
     },
     "execution_count": 3,
     "metadata": {},
     "output_type": "execute_result"
    }
   ],
   "source": [
    "data[0]"
   ]
  },
  {
   "cell_type": "code",
   "execution_count": null,
   "metadata": {},
   "outputs": [],
   "source": []
  },
  {
   "cell_type": "markdown",
   "metadata": {},
   "source": [
    "#### Initializations"
   ]
  },
  {
   "cell_type": "code",
   "execution_count": null,
   "metadata": {},
   "outputs": [
    {
     "name": "stderr",
     "output_type": "stream",
     "text": [
      "2025-04-20 17:49:42,126 [DEBUG] embedding_model - CUDA is available, using GPU\n"
     ]
    },
    {
     "name": "stderr",
     "output_type": "stream",
     "text": [
      "2025-04-20 17:49:53,155 [DEBUG] embedding_model - Embedding model initialized: neuml/pubmedbert-base-embeddings\n",
      "2025-04-20 17:49:53,170 [DEBUG] llm - Initialized model gemini-2.0-flash-lite\n"
     ]
    },
    {
     "name": "stdout",
     "output_type": "stream",
     "text": [
      "Using database: bioasq1000\n"
     ]
    },
    {
     "name": "stderr",
     "output_type": "stream",
     "text": [
      "2025-04-20 17:49:57,252 [DEBUG] connection - Connection successful!\n",
      "2025-04-20 17:49:57,287 [INFO] reader - Limiting the number of rows to 3...\n",
      "2025-04-20 17:49:57,287 [INFO] reader - Data file loaded with shape: (3, 4)\n"
     ]
    },
    {
     "name": "stdout",
     "output_type": "stream",
     "text": [
      "Data length: 3\n"
     ]
    }
   ],
   "source": [
    "# models\n",
    "embedding_model = EmbeddingModel()\n",
    "\n",
    "llm = ChatModel(provider=\"google\", model_name=\"gemini-2.0-flash-lite\").initialize_model()\n",
    "\n",
    "# neo4j connection\n",
    "neo4j_connection = Neo4jConnection(uri=ConfigEnv.NEO4J_URI, \n",
    "                 user=ConfigEnv.NEO4J_USER,\n",
    "                 password=ConfigEnv.NEO4J_PASSWORD,\n",
    "                 database=ConfigEnv.NEO4J_DB)\n",
    "\n",
    "# retriever\n",
    "similarity_retriever = SimilaritySearchRetriever(\n",
    "    llm=llm,\n",
    "    embedding_model=embedding_model,\n",
    "    neo4j_connection=neo4j_connection,\n",
    ")\n",
    "\n",
    "# data\n",
    "data_path = os.path.join(ConfigPath.RAW_DATA_DIR, \"bioasq_train.parquet\")\n",
    "reader = BioASQDataReader(samples_limit=3)\n",
    "data = reader.read_parquet_file(file_path=data_path) \n",
    "print(f\"Data length: {len(data)}\")"
   ]
  },
  {
   "cell_type": "code",
   "execution_count": null,
   "metadata": {},
   "outputs": [],
   "source": [
    "data_loader = Neo4jDataLoader(neo4j_driver=neo4j_connection.get_driver(), embedding_model=embedding_model)"
   ]
  },
  {
   "cell_type": "code",
   "execution_count": null,
   "metadata": {},
   "outputs": [
    {
     "name": "stderr",
     "output_type": "stream",
     "text": [
      "Received notification from DBMS server: {severity: WARNING} {code: Neo.ClientNotification.Statement.FeatureDeprecationWarning} {category: DEPRECATION} {title: This feature is deprecated and will be removed in future versions.} {description: The query used a deprecated function: `id`.} {position: line: 3, column: 37, offset: 135} for query: 'MATCH (article:ARTICLE)-[:HAS_CONTEXT]->(context:CONTEXT)\\n            WHERE article.pmid IN $pmids\\n            RETURN COLLECT(DISTINCT id(context)) AS context_ids'\n",
      "Received notification from DBMS server: {severity: WARNING} {code: Neo.ClientNotification.Statement.FeatureDeprecationWarning} {category: DEPRECATION} {title: This feature is deprecated and will be removed in future versions.} {description: The query used a deprecated function: `id`.} {position: line: 3, column: 19, offset: 49} for query: '\\n            MATCH (c:CONTEXT)\\n            WHERE id(c) IN $context_ids\\n            RETURN id(c) AS context_id, c.text_content AS text, c.embedding AS embedding\\n        '\n",
      "Received notification from DBMS server: {severity: WARNING} {code: Neo.ClientNotification.Statement.FeatureDeprecationWarning} {category: DEPRECATION} {title: This feature is deprecated and will be removed in future versions.} {description: The query used a deprecated function: `id`.} {position: line: 4, column: 20, offset: 90} for query: '\\n            MATCH (c:CONTEXT)\\n            WHERE id(c) IN $context_ids\\n            RETURN id(c) AS context_id, c.text_content AS text, c.embedding AS embedding\\n        '\n"
     ]
    },
    {
     "name": "stdout",
     "output_type": "stream",
     "text": [
      "<neo4j._sync.work.result.Result object at 0x000001BA117115D0>\n"
     ]
    },
    {
     "name": "stderr",
     "output_type": "stream",
     "text": [
      "Received notification from DBMS server: {severity: WARNING} {code: Neo.ClientNotification.Statement.FeatureDeprecationWarning} {category: DEPRECATION} {title: This feature is deprecated and will be removed in future versions.} {description: The query used a deprecated function: `id`.} {position: line: 3, column: 23, offset: 53} for query: '\\n            MATCH (c:CONTEXT)\\n            WHERE NOT id(c) IN $positive_ids AND c.embedding IS NOT NULL\\n            WITH c, gds.similarity.cosine(c.embedding, $question_embedding) AS similarity\\n            ORDER BY similarity DESC\\n            LIMIT $k_samples\\n            RETURN id(c) AS context_id, c.text_content AS text, c.embedding AS embedding, similarity\\n        '\n",
      "Received notification from DBMS server: {severity: WARNING} {code: Neo.ClientNotification.Statement.FeatureDeprecationWarning} {category: DEPRECATION} {title: This feature is deprecated and will be removed in future versions.} {description: The query used a deprecated function: `id`.} {position: line: 7, column: 20, offset: 279} for query: '\\n            MATCH (c:CONTEXT)\\n            WHERE NOT id(c) IN $positive_ids AND c.embedding IS NOT NULL\\n            WITH c, gds.similarity.cosine(c.embedding, $question_embedding) AS similarity\\n            ORDER BY similarity DESC\\n            LIMIT $k_samples\\n            RETURN id(c) AS context_id, c.text_content AS text, c.embedding AS embedding, similarity\\n        '\n",
      "Received notification from DBMS server: {severity: WARNING} {code: Neo.ClientNotification.Statement.FeatureDeprecationWarning} {category: DEPRECATION} {title: This feature is deprecated and will be removed in future versions.} {description: The query used a deprecated function: `id`.} {position: line: 2, column: 19, offset: 73} for query: 'MATCH (c:CONTEXT)-[r:IS_SIMILAR_TO]->(similar:CONTEXT)\\n            WHERE id(c) IN $context_ids AND r.score > $similarity_threshold\\n            AND NOT id(similar) IN $context_ids\\n            RETURN id(similar) AS context_id, similar.text_content AS text, \\n                   similar.embedding AS embedding, id(c) AS source_id, r.score AS similarity_score'\n",
      "Received notification from DBMS server: {severity: WARNING} {code: Neo.ClientNotification.Statement.FeatureDeprecationWarning} {category: DEPRECATION} {title: This feature is deprecated and will be removed in future versions.} {description: The query used a deprecated function: `id`.} {position: line: 3, column: 21, offset: 151} for query: 'MATCH (c:CONTEXT)-[r:IS_SIMILAR_TO]->(similar:CONTEXT)\\n            WHERE id(c) IN $context_ids AND r.score > $similarity_threshold\\n            AND NOT id(similar) IN $context_ids\\n            RETURN id(similar) AS context_id, similar.text_content AS text, \\n                   similar.embedding AS embedding, id(c) AS source_id, r.score AS similarity_score'\n",
      "Received notification from DBMS server: {severity: WARNING} {code: Neo.ClientNotification.Statement.FeatureDeprecationWarning} {category: DEPRECATION} {title: This feature is deprecated and will be removed in future versions.} {description: The query used a deprecated function: `id`.} {position: line: 4, column: 20, offset: 198} for query: 'MATCH (c:CONTEXT)-[r:IS_SIMILAR_TO]->(similar:CONTEXT)\\n            WHERE id(c) IN $context_ids AND r.score > $similarity_threshold\\n            AND NOT id(similar) IN $context_ids\\n            RETURN id(similar) AS context_id, similar.text_content AS text, \\n                   similar.embedding AS embedding, id(c) AS source_id, r.score AS similarity_score'\n",
      "Received notification from DBMS server: {severity: WARNING} {code: Neo.ClientNotification.Statement.FeatureDeprecationWarning} {category: DEPRECATION} {title: This feature is deprecated and will be removed in future versions.} {description: The query used a deprecated function: `id`.} {position: line: 5, column: 52, offset: 307} for query: 'MATCH (c:CONTEXT)-[r:IS_SIMILAR_TO]->(similar:CONTEXT)\\n            WHERE id(c) IN $context_ids AND r.score > $similarity_threshold\\n            AND NOT id(similar) IN $context_ids\\n            RETURN id(similar) AS context_id, similar.text_content AS text, \\n                   similar.embedding AS embedding, id(c) AS source_id, r.score AS similarity_score'\n",
      "Received notification from DBMS server: {severity: WARNING} {code: Neo.ClientNotification.Statement.FeatureDeprecationWarning} {category: DEPRECATION} {title: This feature is deprecated and will be removed in future versions.} {description: The query used a deprecated function: `id`.} {position: line: 3, column: 19, offset: 76} for query: '\\n            MATCH (c:CONTEXT)-[:HAS_MESH_TERM]->(m:MESH)\\n            WHERE id(c) IN $context_ids\\n            WITH c, m, rand() AS r\\n            ORDER BY r\\n            LIMIT $max_per_context\\n            RETURN id(m) AS mesh_id, m.name AS name, m.embedding AS embedding,\\n                   id(c) AS context_id\\n        '\n",
      "Received notification from DBMS server: {severity: WARNING} {code: Neo.ClientNotification.Statement.FeatureDeprecationWarning} {category: DEPRECATION} {title: This feature is deprecated and will be removed in future versions.} {description: The query used a deprecated function: `id`.} {position: line: 7, column: 20, offset: 210} for query: '\\n            MATCH (c:CONTEXT)-[:HAS_MESH_TERM]->(m:MESH)\\n            WHERE id(c) IN $context_ids\\n            WITH c, m, rand() AS r\\n            ORDER BY r\\n            LIMIT $max_per_context\\n            RETURN id(m) AS mesh_id, m.name AS name, m.embedding AS embedding,\\n                   id(c) AS context_id\\n        '\n",
      "Received notification from DBMS server: {severity: WARNING} {code: Neo.ClientNotification.Statement.FeatureDeprecationWarning} {category: DEPRECATION} {title: This feature is deprecated and will be removed in future versions.} {description: The query used a deprecated function: `id`.} {position: line: 8, column: 20, offset: 289} for query: '\\n            MATCH (c:CONTEXT)-[:HAS_MESH_TERM]->(m:MESH)\\n            WHERE id(c) IN $context_ids\\n            WITH c, m, rand() AS r\\n            ORDER BY r\\n            LIMIT $max_per_context\\n            RETURN id(m) AS mesh_id, m.name AS name, m.embedding AS embedding,\\n                   id(c) AS context_id\\n        '\n"
     ]
    },
    {
     "data": {
      "text/plain": [
       "HeteroData(\n",
       "  question_embedding=[768],\n",
       "  context_id_map={\n",
       "    39276=0,\n",
       "    39277=1,\n",
       "    39278=2,\n",
       "    39793=3,\n",
       "    46910=4,\n",
       "    43668=5,\n",
       "    39787=6,\n",
       "    47913=7,\n",
       "    39789=8,\n",
       "    47916=9,\n",
       "    47920=10,\n",
       "  },\n",
       "  original_context_ids={\n",
       "    0=39276,\n",
       "    1=39277,\n",
       "    2=39278,\n",
       "    3=39793,\n",
       "    4=46910,\n",
       "    5=43668,\n",
       "    6=39787,\n",
       "    7=47913,\n",
       "    8=39789,\n",
       "    9=47916,\n",
       "    10=47920,\n",
       "  },\n",
       "  context={\n",
       "    x=[11, 768],\n",
       "    y=[11],\n",
       "  },\n",
       "  mesh={ x=[9, 768] },\n",
       "  (context, similar_to, context)={\n",
       "    edge_index=[2, 3],\n",
       "    edge_attr=[3, 1],\n",
       "  },\n",
       "  (context, has_mesh, mesh)={ edge_index=[2, 10] },\n",
       "  (mesh, rev_has_mesh, context)={ edge_index=[2, 10] }\n",
       ")"
      ]
     },
     "execution_count": 16,
     "metadata": {},
     "output_type": "execute_result"
    }
   ],
   "source": [
    "result = data_loader.extract_subgraph(\n",
    "    question=\"What is the implication of histone lysine methylation in medulloblastoma?\",\n",
    "    relevant_passage_ids=['23179372', '19270706', '23184418']\n",
    ")\n",
    "result"
   ]
  },
  {
   "cell_type": "code",
   "execution_count": null,
   "metadata": {},
   "outputs": [
    {
     "data": {
      "text/plain": [
       "torch.Size([9, 768])"
      ]
     },
     "execution_count": 17,
     "metadata": {},
     "output_type": "execute_result"
    }
   ],
   "source": [
    "result['mesh'].x.shape"
   ]
  },
  {
   "cell_type": "code",
   "execution_count": null,
   "metadata": {},
   "outputs": [],
   "source": [
    "similarity_retriever = SimilaritySearchRetriever(llm=llm, embedding_model=embedding_model, neo4j_connection=neo4j_connection)\n",
    "# results = similarity_retriever.perform_retrieval(retrieval_type=\"mesh_centrality_contexts\",\n",
    "#                                                  query=\"What is the implication of histone lysine methylation in medulloblastoma?\",\n",
    "#                                                  k=3, \n",
    "#                                                  centrality_type=\"degree\")\n",
    "# pmids_found = [r['pmid'] for r in results]\n",
    "# pmids_found"
   ]
  },
  {
   "cell_type": "code",
   "execution_count": null,
   "metadata": {},
   "outputs": [
    {
     "data": {
      "text/plain": [
       "[{'pmid': '23466526',\n",
       "  'content': \"Mowat-Wilson syndrome (MWS) is a severe intellectual disability (ID)-distinctive facial gestalt-multiple congenital anomaly syndrome, commonly associating microcephaly, epilepsy, corpus callosum agenesis, conotruncal heart defects, urogenital malformations and Hirschsprung disease (HSCR). MWS is caused by de novo heterozygous mutations in the ZEB2 gene. The majority of mutations lead to haplo-insufficiency through premature stop codons or large gene deletions. Only three missense mutations have been reported so far; none of which resides in a known functional domain of ZEB2. In this study, we report and analyze the functional consequences of three novel missense mutations, p.Tyr1055Cys, p.Ser1071Pro and p.His1045Arg, identified in the highly conserved C-zinc-finger (C-ZF) domain of ZEB2. Patients' phenotype included the facial gestalt of MWS and moderate ID, but no microcephaly, heart defects or HSCR. In vitro studies showed that all the three mutations prevented binding and repression of the E-cadherin promoter, a characterized ZEB2 target gene. Taking advantage of the zebrafish morphant technology, we performed rescue experiments using wild-type (WT) and mutant human ZEB2 mRNAs. Variable, mutation-dependent, embryo rescue, correlating with the severity of patients' phenotype, was observed. Our data provide evidence that these missense mutations cause a partial loss of function of ZEB2, suggesting that its role is not restricted to repression of E-cadherin. Functional domains other than C-ZF may play a role in early embryonic development. Finally, these findings broaden the clinical spectrum of ZEB2 mutations, indicating that MWS ought to be considered in patients with lesser degrees of ID and a suggestive facial gestalt, even in the absence of congenital malformation.\",\n",
       "  'score': 3.848061466217041},\n",
       " {'pmid': '23720738',\n",
       "  'content': 'MCM7 is one of the subunits of the MCM2-7 complex that plays a critical role in DNA replication initiation and cell proliferation of eukaryotic cells. After forming the pre-replication complex (pre-RC) with other components, the MCM2-7 complex is activated by DDK/cyclin-dependent kinase to initiate DNA replication. Each subunit of the MCM2-7 complex functions differently under regulation of various kinases on the specific site, which needs to be investigated in detail. In this study, we demonstrated that MCM7 is a substrate of cyclin E/Cdk2 and can be phosphorylated on Ser-121. We found that the distribution of MCM7-S121A is different from wild-type MCM7 and that the MCM7-S121A mutant is much less efficient to form a pre-RC complex with MCM3/MCM5/cdc45 compared with wild-type MCM7. By using the Tet-On inducible HeLa cell line, we revealed that overexpression of wild-type MCM7 but not MCM7-S121A can block S phase entry, suggesting that an excess of the pre-RC complex may activate the cell cycle checkpoint. Further analysis indicates that the Chk1 pathway is activated in MCM7-overexpressed cells in a p53-dependent manner. We performed experiments with the human normal cell line HL-7702 and also observed that overexpression of MCM7 can cause S phase block through checkpoint activation. In addition, we found that MCM7 could also be phosphorylated by cyclin B/Cdk1 on Ser-121 both in vitro and in vivo. Furthermore, overexpression of MCM7-S121A causes an obvious M phase exit delay, which suggests that phosphorylation of MCM7 on Ser-121 in M phase is very important for a proper mitotic exit. These data suggest that the phosphorylation of MCM7 on Ser-121 by cyclin/Cdks is involved in preventing DNA rereplication as well as in regulation of the mitotic exit.',\n",
       "  'score': 2.66507648229599},\n",
       " {'pmid': '25409831',\n",
       "  'content': \"Eukaryotic chromosomes replicate in a temporal order known as the replication-timing program. In mammals, replication timing is cell-type-specific with at least half the genome switching replication timing during development, primarily in units of 400-800 kilobases ('replication domains'), whose positions are preserved in different cell types, conserved between species, and appear to confine long-range effects of chromosome rearrangements. Early and late replication correlate, respectively, with open and closed three-dimensional chromatin compartments identified by high-resolution chromosome conformation capture (Hi-C), and, to a lesser extent, late replication correlates with lamina-associated domains (LADs). Recent Hi-C mapping has unveiled substructure within chromatin compartments called topologically associating domains (TADs) that are largely conserved in their positions between cell types and are similar in size to replication domains. However, TADs can be further sub-stratified into smaller domains, challenging the significance of structures at any particular scale. Moreover, attempts to reconcile TADs and LADs to replication-timing data have not revealed a common, underlying domain structure. Here we localize boundaries of replication domains to the early-replicating border of replication-timing transitions and map their positions in 18 human and 13 mouse cell types. We demonstrate that, collectively, replication domain boundaries share a near one-to-one correlation with TAD boundaries, whereas within a cell type, adjacent TADs that replicate at similar times obscure replication domain boundaries, largely accounting for the previously reported lack of alignment. Moreover, cell-type-specific replication timing of TADs partitions the genome into two large-scale sub-nuclear compartments revealing that replication-timing transitions are indistinguishable from late-replicating regions in chromatin composition and lamina association and accounting for the reduced correlation of replication timing to LADs and heterochromatin. Our results reconcile cell-type-specific sub-nuclear compartmentalization and replication timing with developmentally stable structural domains and offer a unified model for large-scale chromosome structure and function.\",\n",
       "  'score': 2.4297178804874418},\n",
       " {'pmid': '19910535',\n",
       "  'content': 'During pre-replication complex (pre-RC) formation, origin recognition complex (ORC), Cdc6, and Cdt1 cooperatively load the 6-subunit mini chromosome maintenance (MCM2-7) complex onto DNA. Loading of MCM2-7 is a prerequisite for DNA licensing that restricts DNA replication to once per cell cycle. During S phase MCM2-7 functions as part of the replicative helicase but within the pre-RC MCM2-7 is inactive. The organization of replicative DNA helicases before and after loading onto DNA has been studied in bacteria and viruses but not eukaryotes and is of major importance for understanding the MCM2-7 loading mechanism and replisome assembly. Lack of an efficient reconstituted pre-RC system has hindered the detailed mechanistic and structural analysis of MCM2-7 loading for a long time. We have reconstituted Saccharomyces cerevisiae pre-RC formation with purified proteins and showed efficient loading of MCM2-7 onto origin DNA in vitro. MCM2-7 loading was found to be dependent on the presence of all pre-RC proteins, origin DNA, and ATP hydrolysis. The quaternary structure of MCM2-7 changes during pre-RC formation: MCM2-7 before loading is a single hexamer in solution but is transformed into a double-hexamer during pre-RC formation. Using electron microscopy (EM), we observed that loaded MCM2-7 encircles DNA. The loaded MCM2-7 complex can slide on DNA, and sliding is not directional. Our results provide key insights into mechanisms of pre-RC formation and have important implications for understanding the role of the MCM2-7 in establishment of bidirectional replication forks.',\n",
       "  'score': 2.198895364999771},\n",
       " {'pmid': '14681759',\n",
       "  'content': 'We report a girl who had Hirschsprung disease in association with distinct facial appearance, microcephaly, agenesis of the corpus callosum and mental retardation (Mowat-Wilson syndrome). Mutation analysis of the zinc finger homeo box 1 B (ZFHX1 B) gene revealed a de novo 7 bp deletion (TGGCCCC) at nucleotide 1773 (1773 delTGGCCCC) resulting in a frameshift and leading to a termination codon at amino acid residue 604 (604 X) in exon 8 C. The zinc finger homeo box 1 B (Smad interacting protein-1) is a transcription corepressor of Smad target genes with functions in the patterning of neural crest derived cells, CNS, and midline structures. Mutations in ZFHX1 B can lead to neurological disorders in addition to dysmorphic features, megacolon, and other malformations.',\n",
       "  'score': 2.1038876533508297}]"
      ]
     },
     "execution_count": 6,
     "metadata": {},
     "output_type": "execute_result"
    }
   ],
   "source": [
    "similarity_retriever.perform_enhanced_mesh_search(query=\"Does oncogene-induced DNA replication stress inhibit genomic instability?\", k=5, n_meshes=10)"
   ]
  },
  {
   "cell_type": "code",
   "execution_count": null,
   "metadata": {},
   "outputs": [
    {
     "data": {
      "text/plain": [
       "[{'term': 'Histone Methyltransferases',\n",
       "  'definition': 'Histone Methyltransferases\\nEnzymes that catalyze the transfer of methyl groups to LYSINE or ARGININE\\nresidues of HISTONES, especially histone H3 and histone H4 proteins. They play a \\ncritical role in EPIGENETIC PROCESSES.',\n",
       "  'score': 0.8065643310546875},\n",
       " {'term': 'Histone Methyltransferases',\n",
       "  'definition': 'Histone Methyltransferases\\nEnzymes that catalyze the transfer of methyl groups to LYSINE or ARGININE\\nresidues of HISTONES, especially histone H3 and histone H4 proteins. They play a \\ncritical role in EPIGENETIC PROCESSES.',\n",
       "  'score': 0.8064651489257812},\n",
       " {'term': 'Histone-Lysine N-Methyltransferase',\n",
       "  'definition': 'Histone-Lysine N-Methyltransferase\\nAn enzyme that catalyzes the methylation of the epsilon-amino group of lysine\\nresidues in proteins to yield epsilon mono-, di-, and trimethyllysine.',\n",
       "  'score': 0.8031783103942871},\n",
       " {'term': 'Histone-Lysine N-Methyltransferase',\n",
       "  'definition': 'Histone-Lysine N-Methyltransferase\\nAn enzyme that catalyzes the methylation of the epsilon-amino group of lysine\\nresidues in proteins to yield epsilon mono-, di-, and trimethyllysine.',\n",
       "  'score': 0.8031654357910156},\n",
       " {'term': 'DNA Methyltransferase 3B',\n",
       "  'definition': 'DNA Methyltransferase 3B\\nA DNA (cytosine 5) Methyltransferase that has an essential role in the\\nestablishment of DNA methylation patterns during development.',\n",
       "  'score': 0.7951087951660156}]"
      ]
     },
     "execution_count": 6,
     "metadata": {},
     "output_type": "execute_result"
    }
   ],
   "source": [
    "mesh_results = similarity_retriever.get_relevant_meshes(query=\"What is the implication of histone lysine methylation in medulloblastoma?\", k=5)\n",
    "mesh_results"
   ]
  },
  {
   "cell_type": "code",
   "execution_count": null,
   "metadata": {},
   "outputs": [
    {
     "data": {
      "text/plain": [
       "['Histone Methyltransferases',\n",
       " 'Histone Methyltransferases',\n",
       " 'Histone-Lysine N-Methyltransferase',\n",
       " 'Histone-Lysine N-Methyltransferase',\n",
       " 'DNA Methyltransferase 3B']"
      ]
     },
     "execution_count": 8,
     "metadata": {},
     "output_type": "execute_result"
    }
   ],
   "source": [
    "mesh_terms = [mesh['term'] for mesh in mesh_results]\n",
    "mesh_terms"
   ]
  },
  {
   "cell_type": "code",
   "execution_count": null,
   "metadata": {},
   "outputs": [],
   "source": []
  },
  {
   "cell_type": "code",
   "execution_count": null,
   "metadata": {},
   "outputs": [],
   "source": []
  },
  {
   "cell_type": "markdown",
   "metadata": {},
   "source": [
    "### RAGAS METRICS"
   ]
  },
  {
   "cell_type": "code",
   "execution_count": null,
   "metadata": {},
   "outputs": [],
   "source": [
    "vector_search_tool = VectorSimilaritySearchTool(\n",
    "        llm=llm,\n",
    "        embedding_model=embedding_model,\n",
    "        neo4j_connection=neo4j_connection,\n",
    "        return_direct=False,\n",
    "    )"
   ]
  },
  {
   "cell_type": "code",
   "execution_count": null,
   "metadata": {},
   "outputs": [],
   "source": [
    "results = vector_search_tool.invoke(\"What is the implication of histone lysine methylation in medulloblastoma?\")"
   ]
  },
  {
   "cell_type": "code",
   "execution_count": null,
   "metadata": {},
   "outputs": [],
   "source": [
    "print(results['answer'])"
   ]
  },
  {
   "cell_type": "code",
   "execution_count": null,
   "metadata": {},
   "outputs": [],
   "source": [
    "contexts = [sample['content'] for sample in results['context']]\n",
    "contexts"
   ]
  },
  {
   "cell_type": "code",
   "execution_count": null,
   "metadata": {},
   "outputs": [],
   "source": [
    "from ragas.llms import LangchainLLMWrapper\n",
    "\n",
    "llm = ChatModel(provider=\"google\", model_name=\"gemini-2.0-flash-lite\").initialize_model()\n",
    "evaluator_llm = LangchainLLMWrapper(llm)"
   ]
  },
  {
   "cell_type": "code",
   "execution_count": null,
   "metadata": {},
   "outputs": [],
   "source": [
    "\n",
    "from ragas.dataset_schema import SingleTurnSample\n",
    "from ragas.metrics import ContextRelevance\n",
    "\n",
    "sample = SingleTurnSample(\n",
    "    user_input=\"What is the implication of histone lysine methylation in medulloblastoma?\",\n",
    "    retrieved_contexts=contexts\n",
    ")\n",
    "\n",
    "scorer = ContextRelevance(llm=evaluator_llm)\n",
    "score = await scorer.single_turn_ascore(sample)\n",
    "print(score)"
   ]
  },
  {
   "cell_type": "code",
   "execution_count": null,
   "metadata": {},
   "outputs": [],
   "source": [
    "from ragas import EvaluationDataset\n",
    "\n",
    "\n",
    "dataset = []\n",
    "dataset.append(\n",
    "        {\n",
    "            \"id\": 1,\n",
    "            \"user_input\": \"What is the implication of histone lysine methylation in medulloblastoma?\",\n",
    "            \"retrieved_contexts\": contexts,\n",
    "            \"response\": \"Histone lysine methylation, particularly at H3K9, is implicated in the pathogenesis of medulloblastoma. Copy number aberrations in genes involved in writing, reading, removing, and blocking histone lysine methylation suggest that defective control of the histone code contributes to the development of this cancer. Additionally, the study found that restoration of expression of genes controlling H3K9 methylation greatly diminishes proliferation of medulloblastoma in vitro.\",\n",
    "            \"reference\": \"Aberrant patterns of H3K4, H3K9, and H3K27 histone lysine methylation were shown to result in histone code alterations, which induce changes in gene expression, and affect the proliferation rate of cells in medulloblastoma.\", # expected response\n",
    "        }\n",
    "    )\n",
    "evaluation_dataset = EvaluationDataset.from_list(dataset)"
   ]
  },
  {
   "cell_type": "code",
   "execution_count": null,
   "metadata": {},
   "outputs": [],
   "source": [
    "from ragas import evaluate\n",
    "from ragas.llms import LangchainLLMWrapper\n",
    "from ragas.embeddings import LangchainEmbeddingsWrapper\n",
    "from ragas.metrics import LLMContextPrecisionWithReference, ContextRecall, ResponseRelevancy, FactualCorrectness\n",
    "\n",
    "evaluator_llm = LangchainLLMWrapper(llm)\n",
    "evaluator_embedding = LangchainEmbeddingsWrapper(embedding_model)\n",
    "\n",
    "context_precision = LLMContextPrecisionWithReference()\n",
    "context_recall = ContextRecall()\n",
    "response_relevancy = ResponseRelevancy()\n",
    "factual_correctness = FactualCorrectness()\n",
    "\n",
    "result = evaluate(\n",
    "    dataset=evaluation_dataset,\n",
    "    metrics=[context_precision, context_recall, response_relevancy, factual_correctness],\n",
    "    llm=evaluator_llm,\n",
    "    embeddings=evaluator_embedding\n",
    ")\n",
    "\n",
    "result"
   ]
  },
  {
   "cell_type": "code",
   "execution_count": null,
   "metadata": {},
   "outputs": [],
   "source": []
  },
  {
   "cell_type": "code",
   "execution_count": null,
   "metadata": {},
   "outputs": [],
   "source": [
    "# read paquet data\n",
    "import os\n",
    "import pandas as pd\n",
    "from configs.config import ConfigPath\n",
    "\n",
    "from data_collection.reader import BioASQDataReader"
   ]
  },
  {
   "cell_type": "code",
   "execution_count": null,
   "metadata": {},
   "outputs": [],
   "source": [
    "asq_reader = BioASQDataReader()\n",
    "data = asq_reader.read_parquet_file(file_path=os.path.join(ConfigPath.RAW_DATA_DIR, \"bioasq_train.parquet\"))"
   ]
  },
  {
   "cell_type": "code",
   "execution_count": null,
   "metadata": {},
   "outputs": [],
   "source": [
    "for sample in data:\n",
    "    if 20007090 in sample[\"relevant_passage_ids\"]:\n",
    "        print(sample)\n",
    "        print(data.index(sample))\n",
    "        break"
   ]
  },
  {
   "cell_type": "code",
   "execution_count": null,
   "metadata": {},
   "outputs": [],
   "source": [
    "asq_reader.get_data_to_dict()"
   ]
  },
  {
   "cell_type": "code",
   "execution_count": null,
   "metadata": {},
   "outputs": [],
   "source": [
    "from data_collection.fetcher import PubMedArticleFetcher\n",
    "\n",
    "fetcher = PubMedArticleFetcher()"
   ]
  },
  {
   "cell_type": "code",
   "execution_count": null,
   "metadata": {},
   "outputs": [],
   "source": [
    "results = fetcher.fetch_articles(pmids=['20007090'])"
   ]
  },
  {
   "cell_type": "code",
   "execution_count": null,
   "metadata": {},
   "outputs": [],
   "source": []
  },
  {
   "cell_type": "code",
   "execution_count": null,
   "metadata": {},
   "outputs": [],
   "source": []
  }
 ],
 "metadata": {
  "kernelspec": {
   "display_name": ".venv",
   "language": "python",
   "name": "python3"
  },
  "language_info": {
   "codemirror_mode": {
    "name": "ipython",
    "version": 3
   },
   "file_extension": ".py",
   "mimetype": "text/x-python",
   "name": "python",
   "nbconvert_exporter": "python",
   "pygments_lexer": "ipython3",
   "version": "3.10.0"
  }
 },
 "nbformat": 4,
 "nbformat_minor": 2
}
